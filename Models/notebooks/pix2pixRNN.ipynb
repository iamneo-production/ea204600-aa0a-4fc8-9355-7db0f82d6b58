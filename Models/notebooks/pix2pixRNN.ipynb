{
 "cells": [
  {
   "cell_type": "markdown",
   "id": "891eef1c",
   "metadata": {},
   "source": [
    "# Pix2PixRNN"
   ]
  },
  {
   "cell_type": "code",
   "execution_count": 1,
   "id": "bd8fae49",
   "metadata": {
    "tags": []
   },
   "outputs": [],
   "source": [
    "import torch\n",
    "import torch.nn as nn\n",
    "import torch.nn.functional as F\n",
    "import torch.optim as optim\n",
    "from torch.optim import lr_scheduler\n",
    "from torch.utils.data import Dataset, DataLoader\n",
    "from torchsummary import summary\n",
    "\n",
    "import numpy as np\n",
    "import pandas as pd\n",
    "import random\n",
    "from glob import glob\n",
    "import os, shutil\n",
    "import gc\n",
    "from PIL import Image\n",
    "from typing import Dict, List, Tuple, Any, Optional\n",
    "from collections import namedtuple, defaultdict\n",
    "import copy\n",
    "\n",
    "import cv2\n",
    "import matplotlib.pyplot as plt\n",
    "\n",
    "from sklearn.model_selection import KFold, StratifiedKFold, StratifiedGroupKFold\n",
    "\n",
    "import segmentation_models_pytorch as smp\n",
    "import piqa\n",
    "import albumentations as A\n",
    "from albumentations.pytorch import ToTensorV2\n",
    "import wandb\n",
    "from tqdm import tqdm\n",
    "tqdm.pandas()\n",
    "\n",
    "from colorama import Fore, Back, Style\n",
    "c_  = Fore.GREEN\n",
    "sr_ = Style.RESET_ALL\n",
    "\n",
    "import warnings\n",
    "warnings.filterwarnings(\"ignore\")"
   ]
  },
  {
   "cell_type": "markdown",
   "id": "5f10acbb",
   "metadata": {},
   "source": [
    "# Config"
   ]
  },
  {
   "cell_type": "code",
   "execution_count": 2,
   "id": "517f181d",
   "metadata": {
    "tags": []
   },
   "outputs": [],
   "source": [
    "class config:\n",
    "    seed          = 42\n",
    "    exp_name      = 'nasscom-taim'\n",
    "    model_name    = 'pix2pix-rnn'\n",
    "    base_model    = 'None'\n",
    "    train_bs      = 2\n",
    "    valid_bs      = 2 * train_bs\n",
    "    image_size    = [224, 224]\n",
    "    in_channels   = 7\n",
    "    latent_size   = 128\n",
    "    hidden_size   = 512\n",
    "    num_layers    = 2\n",
    "    bidirectional = 0 # could be 0 or 1\n",
    "    comment       = f'model-{model_name}|latent_size-{latent_size}|info_channels-{in_channels}|hidden_dim-{hidden_size}|num_layers-{num_layers}|bidirectional-{bidirectional}|dim-{image_size[0]}x{image_size[1]}'\n",
    "    epochs        = 10\n",
    "    learning_rate = 3e-4\n",
    "    scheduler     = 'CosineAnnealingLR'\n",
    "    min_lr        = 1e-6\n",
    "    T_max         = int(30000/train_bs*epochs)+50\n",
    "    T_0           = 25\n",
    "    warmup_epochs = 0\n",
    "    wd            = 1e-6\n",
    "    n_accumulate  = max(1, 32//train_bs)\n",
    "    n_fold        = 5\n",
    "    num_classes   = 3\n",
    "    device        = torch.device(\"cuda:0\" if torch.cuda.is_available() else \"cpu\")\n",
    "    train_num     = 1"
   ]
  },
  {
   "cell_type": "markdown",
   "id": "9c6b56cd",
   "metadata": {},
   "source": [
    "# Seeding"
   ]
  },
  {
   "cell_type": "code",
   "execution_count": 3,
   "id": "04625ed2",
   "metadata": {
    "tags": []
   },
   "outputs": [
    {
     "name": "stdout",
     "output_type": "stream",
     "text": [
      ">>> SEEDED <<<\n"
     ]
    }
   ],
   "source": [
    "def set_seed(seed: int = 42):\n",
    "    np.random.seed(seed)\n",
    "    random.seed(seed)\n",
    "    torch.manual_seed(seed)\n",
    "    os.environ['PYTHONHASHSEED'] = str(seed)\n",
    "    print('>>> SEEDED <<<')\n",
    "\n",
    "set_seed(config.seed)"
   ]
  },
  {
   "cell_type": "markdown",
   "id": "2a340a47",
   "metadata": {},
   "source": [
    "# Utils"
   ]
  },
  {
   "cell_type": "code",
   "execution_count": 4,
   "id": "ad053d15",
   "metadata": {
    "tags": []
   },
   "outputs": [],
   "source": [
    "class Conv2DLayer(nn.Module):\n",
    "    def __init__(\n",
    "        self,\n",
    "        in_channels: int, \n",
    "        out_channels: int, \n",
    "        kernel_size: int, \n",
    "        stride: int, \n",
    "        padding: int\n",
    "    ) -> None:\n",
    "        super(Conv2DLayer, self).__init__()\n",
    "        self.conv = nn.Conv2d(\n",
    "            in_channels=in_channels, \n",
    "            out_channels=out_channels, \n",
    "            kernel_size=kernel_size, \n",
    "            stride=stride, \n",
    "            padding=padding\n",
    "        )\n",
    "        self.bn = nn.BatchNorm2d(num_features=out_channels)\n",
    "    \n",
    "    def forward(self, x: torch.Tensor) -> torch.Tensor:\n",
    "        return F.relu(self.bn(self.conv(x)))"
   ]
  },
  {
   "cell_type": "code",
   "execution_count": 5,
   "id": "f8f3c224",
   "metadata": {
    "tags": []
   },
   "outputs": [],
   "source": [
    "class Conv2DTransposeLayer(nn.Module):\n",
    "    def __init__(\n",
    "        self,\n",
    "        in_channels: int, \n",
    "        out_channels: int, \n",
    "        kernel_size: int, \n",
    "        stride: int, \n",
    "        padding: int \n",
    "    ) -> None:\n",
    "        super(Conv2DTransposeLayer, self).__init__()\n",
    "        self.conv = nn.ConvTranspose2d(\n",
    "            in_channels=in_channels, \n",
    "            out_channels=out_channels, \n",
    "            kernel_size=kernel_size, \n",
    "            stride=stride, \n",
    "            padding=padding\n",
    "        )\n",
    "        self.bn = nn.BatchNorm2d(num_features=out_channels)\n",
    "    \n",
    "    def forward(self, x: torch.Tensor) -> torch.Tensor:\n",
    "        return F.relu(self.bn(self.conv(x)))"
   ]
  },
  {
   "cell_type": "markdown",
   "id": "3be72307",
   "metadata": {},
   "source": [
    "# Model\n",
    "\n",
    "## Encoder"
   ]
  },
  {
   "cell_type": "code",
   "execution_count": 6,
   "id": "f2990535",
   "metadata": {
    "tags": []
   },
   "outputs": [],
   "source": [
    "class EncoderLayer(nn.Module):\n",
    "    def __init__(\n",
    "            self, \n",
    "            in_channels: int,\n",
    "            latent_size: int, \n",
    "            *args, **kwargs) -> None:\n",
    "        super().__init__(*args, **kwargs)\n",
    "        \n",
    "        self.conv1 = Conv2DLayer(in_channels=in_channels, out_channels=32, kernel_size=8, stride=4, padding=1)\n",
    "        self.conv2 = Conv2DLayer(in_channels=32, out_channels=16, kernel_size=2, stride=4, padding=1)\n",
    "        self.conv3 = Conv2DLayer(in_channels=16, out_channels=1, kernel_size=2, stride=1, padding=1)\n",
    "        self.fc    = nn.Linear(in_features=225, out_features=latent_size)\n",
    "\n",
    "    def forward(self, x: torch.Tensor) -> torch.Tensor:\n",
    "        batch_size = x.size(0)\n",
    "        x = self.conv1(x)\n",
    "        x = self.conv2(x)\n",
    "        x = self.conv3(x)\n",
    "        x = x.view(batch_size, -1)\n",
    "        x = self.fc(x)\n",
    "        return x"
   ]
  },
  {
   "cell_type": "markdown",
   "id": "ce1d784c",
   "metadata": {},
   "source": [
    "## Decoder"
   ]
  },
  {
   "cell_type": "code",
   "execution_count": 7,
   "id": "defcd9a7",
   "metadata": {
    "tags": []
   },
   "outputs": [],
   "source": [
    "class DecoderLayer(nn.Module):\n",
    "    def __init__(\n",
    "        self, \n",
    "        latent_size: int,\n",
    "        out_channels: int,\n",
    "        *args, **kwargs\n",
    "    ) -> None:\n",
    "        super().__init__(*args, **kwargs)\n",
    "        \n",
    "        self.conv1 = Conv2DTransposeLayer(in_channels=latent_size, out_channels=128, kernel_size=6, \n",
    "                                          stride=3, padding=1)\n",
    "        self.conv2 = Conv2DTransposeLayer(in_channels=128, out_channels=64, kernel_size=4, stride=4, padding=1)\n",
    "        self.conv3 = Conv2DTransposeLayer(in_channels=64, out_channels=32, kernel_size=4, stride=2, padding=1)\n",
    "        self.conv4 = Conv2DTransposeLayer(in_channels=32, out_channels=16, kernel_size=4, stride=2, padding=1)\n",
    "        self.conv5 = Conv2DTransposeLayer(in_channels=16, out_channels=8, kernel_size=4, stride=2, padding=1)\n",
    "        self.conv6 = Conv2DTransposeLayer(in_channels=8, out_channels=out_channels, kernel_size=4, stride=2, padding=1)\n",
    "#         self.conv7 = Conv2DTransposeLayer(in_channels=4, out_channels=3, kernel_size=4, stride=2, padding=1)\n",
    "    \n",
    "    def forward(self, x: torch.Tensor) -> torch.Tensor:\n",
    "        x = self.conv1(x)\n",
    "        x = self.conv2(x)\n",
    "        x = self.conv3(x)\n",
    "        x = self.conv4(x)\n",
    "        x = self.conv5(x)\n",
    "        x = self.conv6(x)\n",
    "        return x"
   ]
  },
  {
   "cell_type": "code",
   "execution_count": 8,
   "id": "eb6c3d81",
   "metadata": {
    "tags": []
   },
   "outputs": [
    {
     "data": {
      "text/plain": [
       "torch.Size([64, 3, 224, 224])"
      ]
     },
     "execution_count": 8,
     "metadata": {},
     "output_type": "execute_result"
    }
   ],
   "source": [
    "x = torch.rand((64, 512, 1, 1))\n",
    "model = DecoderLayer(latent_size=512, out_channels=3)\n",
    "y = model(x)\n",
    "y.shape"
   ]
  },
  {
   "cell_type": "markdown",
   "id": "307822c0",
   "metadata": {},
   "source": [
    "## pix2pixRNN"
   ]
  },
  {
   "cell_type": "code",
   "execution_count": 9,
   "id": "a4861f07",
   "metadata": {
    "tags": []
   },
   "outputs": [
    {
     "data": {
      "text/plain": [
       "torch.Size([64, 7, 224, 224])"
      ]
     },
     "execution_count": 9,
     "metadata": {},
     "output_type": "execute_result"
    }
   ],
   "source": [
    "class Pix2PixRNN(nn.Module):\n",
    "    def __init__(\n",
    "            self, \n",
    "            in_channels: int = 3, \n",
    "            latent_size: int = 128,\n",
    "            hidden_size: int = 512,\n",
    "            num_layers: int = 2,\n",
    "            bidirectional: Optional[int] = 1,\n",
    "            *args, **kwargs) -> None:\n",
    "        super().__init__(*args, **kwargs)\n",
    "\n",
    "        self.in_channels = in_channels\n",
    "        self.latent_size = latent_size\n",
    "        self.hidden_size = hidden_size\n",
    "        self.num_layers = num_layers\n",
    "        self.bidirectional = bidirectional\n",
    "\n",
    "        self.encoder = EncoderLayer(in_channels=in_channels, latent_size=latent_size)\n",
    "        self.lstm = nn.LSTM(\n",
    "            input_size=latent_size,\n",
    "            hidden_size=hidden_size, \n",
    "            num_layers=num_layers, \n",
    "            batch_first=True,\n",
    "            bidirectional=True if self.bidirectional == 2 else False\n",
    "        )\n",
    "        self.decoder = DecoderLayer(latent_size=self.hidden_size, out_channels=in_channels)\n",
    "\n",
    "    def _init_hidden_states(self, bs: int) -> Tuple[torch.Tensor]:\n",
    "        return torch.zeros(self.bidirectional*self.num_layers, bs, self.hidden_size), \\\n",
    "    torch.zeros(self.bidirectional*self.num_layers, bs, self.hidden_size)\n",
    "    \n",
    "    def forward(self, x: torch.Tensor) -> Tuple[torch.Tensor]:\n",
    "        emb = None\n",
    "        seq_len = x.size(2) # [B, C, D, H, W]\n",
    "        for ix in range(seq_len):\n",
    "            if emb is None:\n",
    "                emb = self.encoder(x[:, :, ix, :, :]).unsqueeze(0)\n",
    "            else:\n",
    "                emb = torch.cat([emb, self.encoder(x[:, :, ix, :, :]).unsqueeze(0)], dim=0)\n",
    "#         emb = self.encoder(x)\n",
    "        emb = emb.permute(1, 0, 2)\n",
    "        \n",
    "#         h0, c0 = self._init_hidden_states(64)\n",
    "        out, (h, c) = self.lstm(emb)\n",
    "        \n",
    "        decoder_inp = torch.cat([h, c])\n",
    "        decoder_inp = torch.mean(decoder_inp, axis=0).unsqueeze(-1).unsqueeze(-1)\n",
    "        out = self.decoder(decoder_inp)\n",
    "        return nn.Sigmoid()(out)\n",
    "\n",
    "\n",
    "x = torch.randn((64, 7, 8, 224, 224))\n",
    "model = Pix2PixRNN(in_channels=7, latent_size=128, bidirectional=2)\n",
    "decoder_inp = model.forward(x)\n",
    "decoder_inp.shape"
   ]
  },
  {
   "cell_type": "markdown",
   "id": "3dc7643a",
   "metadata": {},
   "source": [
    "# Training Function"
   ]
  },
  {
   "cell_type": "code",
   "execution_count": 10,
   "id": "76800b50",
   "metadata": {},
   "outputs": [],
   "source": [
    "def train_one_epoch(\n",
    "    model: nn.Module, optimizer: optim, scheduler: lr_scheduler, \n",
    "    criterion: nn.Module, loader: DataLoader\n",
    ") -> float:\n",
    "    model.train()\n",
    "    running_loss = 0.0\n",
    "    dataset_size = 0\n",
    "    \n",
    "    ssim_loss = piqa.SSIM(n_channels=7)\n",
    "    psnr_loss = piqa.PSNR()\n",
    "    \n",
    "    pbar = tqdm(enumerate(loader), total=len(loader), desc='Train')\n",
    "    for step, (X, y) in pbar:\n",
    "        bs = X.shape[0]\n",
    "        yHat = model.forward(X)\n",
    "        \n",
    "        optimizer.zero_grad()\n",
    "        loss = criterion(yHat, y)\n",
    "        loss.backward()\n",
    "        optimizer.step()\n",
    "        if scheduler is not None:\n",
    "            scheduler.step()\n",
    "        \n",
    "        running_loss += (loss.item() * bs)\n",
    "        dataset_size += bs\n",
    "        \n",
    "        epoch_loss = running_loss / dataset_size\n",
    "        current_lr = optimizer.param_groups[0]['lr']\n",
    "        \n",
    "        with torch.no_grad():\n",
    "            ssim = ssim_loss(yHat, y)\n",
    "            psnr = psnr_loss(yHat, y)\n",
    "        \n",
    "        wandb.log({\n",
    "            'running train loss': epoch_loss,\n",
    "            'running learning rate': current_lr,\n",
    "            'training ssim': ssim,\n",
    "            'training psnr': psnr\n",
    "        })\n",
    "    \n",
    "        pbar.set_postfix(loss=f'{epoch_loss:.3f}', lr=f'{current_lr:.5f}', ssim=f'{ssim:.5f}', psnr=f'{psnr:.5f}')\n",
    "    \n",
    "    return epoch_loss"
   ]
  },
  {
   "cell_type": "markdown",
   "id": "272f8f30",
   "metadata": {},
   "source": [
    "# Validation Function"
   ]
  },
  {
   "cell_type": "code",
   "execution_count": 11,
   "id": "c5c82bea",
   "metadata": {},
   "outputs": [],
   "source": [
    "def get_prediction_plots(y: torch.Tensor, yHat: torch.Tensor):\n",
    "    img_id = np.random.choice(range(len(y)))\n",
    "    fig, axs = plt.subplots(2, 7, figsize=(12, 12))\n",
    "    axs[0][0].set_ylabel('Actual')\n",
    "    axs[1][0].set_ylabel('Predicted')\n",
    "    for ix, ax in enumerate(axs[0].flatten()):\n",
    "        ax.imshow(y[img_id][ix], cmap='gray')\n",
    "        ax.set_xticks([])\n",
    "        ax.set_yticks([])\n",
    "    \n",
    "    for ix, ax in enumerate(axs[1].flatten()):\n",
    "        ax.imshow(yHat[img_id][ix], cmap='gray')\n",
    "        ax.set_xticks([])\n",
    "        ax.set_yticks([])\n",
    "    \n",
    "#     plt.tight_layout()\n",
    "#     plt.imsave(fig, './preds.png')\n",
    "    plt.savefig('./preds.png')"
   ]
  },
  {
   "cell_type": "code",
   "execution_count": 12,
   "id": "8cd20d15",
   "metadata": {},
   "outputs": [
    {
     "data": {
      "text/plain": [
       "(torch.Size([64, 7, 224, 224]), torch.Size([64, 7, 224, 224]))"
      ]
     },
     "execution_count": 12,
     "metadata": {},
     "output_type": "execute_result"
    }
   ],
   "source": [
    "y = torch.rand([64, 7, 224, 224])\n",
    "yHat = torch.rand_like(y)\n",
    "y.shape, yHat.shape"
   ]
  },
  {
   "cell_type": "code",
   "execution_count": null,
   "id": "e70f4148",
   "metadata": {},
   "outputs": [],
   "source": [
    "get_prediction_plots(y=y, yHat=yHat)"
   ]
  },
  {
   "cell_type": "code",
   "execution_count": null,
   "id": "eba5b38d",
   "metadata": {},
   "outputs": [],
   "source": [
    "@torch.no_grad()\n",
    "def validate_one_epoch(model: nn.Module, loader: DataLoader, criterion: nn.Module) -> float:\n",
    "    model.eval()\n",
    "    running_loss = 0.0\n",
    "    dataset_size = 0\n",
    "    \n",
    "    ssim_loss = piqa.SSIM(n_channels=7)\n",
    "    psnr_loss = piqa.PSNR()\n",
    "    \n",
    "    pbar = tqdm(enumerate(loader), total=len(loader), desc='Evaluation')\n",
    "    for step, (X, y) in pbar:\n",
    "        bs = X.shape[0]\n",
    "        yHat = model.forward(X)\n",
    "        \n",
    "        loss = criterion(yHat, y)\n",
    "        \n",
    "        running_loss += (bs * loss.item())\n",
    "        dataset_size += bs\n",
    "        epoch_loss = running_loss / dataset_size\n",
    "        \n",
    "        get_prediction_plots(y=y, yHat=yHat)\n",
    "        \n",
    "        wandb.log({\n",
    "            'running valid loss': epoch_loss,\n",
    "            'predictions': wandb.Image('./preds.png'),\n",
    "            'validation ssim': ssim_loss(yHat, y),\n",
    "            'validation psnr': psnr_loss(yHat, y)\n",
    "        })\n",
    "    \n",
    "    return epoch_loss"
   ]
  },
  {
   "cell_type": "markdown",
   "id": "58bc30b4",
   "metadata": {},
   "source": [
    "# Schedulers"
   ]
  },
  {
   "cell_type": "code",
   "execution_count": 15,
   "id": "a6ca7e34",
   "metadata": {},
   "outputs": [],
   "source": [
    "def get_optimizer(optimizer: optim):\n",
    "    if config.scheduler == 'CosineAnnealingLR':\n",
    "        scheduler = lr_scheduler.CosineAnnealingLR(\n",
    "            optimizer=optimizer, \n",
    "            T_max=config.T_max, \n",
    "            eta_min=config.min_lr\n",
    "        )\n",
    "    elif config.scheduler == 'CosineAnnealingWarmRestarts':\n",
    "        scheduler = lr_scheduler.CosineAnnealingWarmRestarts(\n",
    "            optimizer=optimizer, \n",
    "            T_0=config.T_0, \n",
    "            eta_min=config.eta_min\n",
    "        )\n",
    "    elif config.scheduler == 'ReduceLROnPlateau':\n",
    "        scheduler = lr_scheduler.ReduceLROnPlateau(\n",
    "            optimizer=optimizer, \n",
    "            mode='min',\n",
    "            factor=0.1, \n",
    "            patience=10, \n",
    "            threshold=0.0001, \n",
    "            min_lr=config.min_lr\n",
    "        )\n",
    "    elif config.scheduler == 'ExponentialLR':\n",
    "        scheduler = lr_scheduler.ExponentialLR(\n",
    "            optimizer=optimizer, \n",
    "            gamma=0.85\n",
    "        )\n",
    "    elif config.scheduler == None:\n",
    "        scheduler = None\n",
    "    else:\n",
    "        raise NotImplementedError(\"The Scheduler you have asked has not been implemented\")\n",
    "    return scheduler"
   ]
  },
  {
   "cell_type": "markdown",
   "id": "f3436e62",
   "metadata": {},
   "source": [
    "# Run Training"
   ]
  },
  {
   "cell_type": "code",
   "execution_count": 16,
   "id": "11f76084",
   "metadata": {},
   "outputs": [],
   "source": [
    "def run_training(trainloader, validloader):\n",
    "    wandb.init(\n",
    "        project='nasscom-taim',\n",
    "        config={k:v for k, v in vars(config).items() if '__' not in k},\n",
    "        name=f'iteration-{config.train_num}',\n",
    "        group=config.comment\n",
    "    )\n",
    "    \n",
    "    model = Pix2PixRNN(\n",
    "        in_channels=config.in_channels, \n",
    "        latent_size=config.latent_size,\n",
    "        hidden_size=config.hidden_size, \n",
    "        num_layers=config.num_layers\n",
    "    ).to(config.device)\n",
    "    \n",
    "    criterion = nn.MSELoss()\n",
    "    \n",
    "    optimizer = optim.Adam(model.parameters(), lr=config.learning_rate)\n",
    "    scheduler = get_optimizer(optimizer=optimizer)\n",
    "    \n",
    "    history = {\n",
    "        'lr': [],\n",
    "        'train loss': [],\n",
    "        'valid loss': []\n",
    "    }\n",
    "    \n",
    "    best_model_wts = copy.deepcopy(model.state_dict())\n",
    "    best_epoch = -1\n",
    "    best_loss = np.infty\n",
    "    \n",
    "    wandb.watch(models=[model], log_freq=100)\n",
    "    \n",
    "    for epoch in range(config.epochs):\n",
    "        train_loss = train_one_epoch(model=model, optimizer=optimizer, criterion=criterion, \n",
    "                                     scheduler=scheduler, loader=trainloader)\n",
    "        valid_loss = validate_one_epoch(model=model, loader=validloader, criterion=criterion)\n",
    "        \n",
    "#         with torch.no_grad():\n",
    "#             X, y = next(iter(validloader))\n",
    "#             yHat = model.forward(X)\n",
    "#             yHat = yHat.permute()\n",
    "        \n",
    "        wandb.log({\n",
    "            'lr': optimizer.param_groups[0]['lr'], \n",
    "            'epoch train loss': train_loss, \n",
    "            'epoch valid loss': valid_loss\n",
    "        })\n",
    "        \n",
    "        history['lr'].append(optimizer.param_groups[0]['lr'])\n",
    "        history['train loss'].append(train_loss)\n",
    "        history['valid loss'].append(valid_loss)\n",
    "        \n",
    "        print(f'Validation Loss: {valid_loss:.5f}')\n",
    "        \n",
    "        if valid_loss < best_loss:\n",
    "            print(f'{c_}Validation decreased from {best_loss:.5f} to {valid_loss:.5f}')\n",
    "            best_loss = valid_loss\n",
    "            best_epoch = epoch\n",
    "            best_model_wts = copy.deepcopy(model.state_dict())\n",
    "            \n",
    "            path = f'../../best-models/MODEL-{config.train_num}.bin'\n",
    "            torch.save(best_model_wts, path)\n",
    "            wandb.save(path)\n",
    "            \n",
    "            print(f\"Model Saved{sr_}\")\n",
    "        \n",
    "    model.load_state_dict(torch.load(f'../best-models/MODEL-{config.trial_num}.bin'))\n",
    "    return model, history"
   ]
  },
  {
   "cell_type": "markdown",
   "id": "b2fcebc1",
   "metadata": {},
   "source": [
    "# Dataset"
   ]
  },
  {
   "cell_type": "code",
   "execution_count": 17,
   "id": "a8dd8ab1",
   "metadata": {},
   "outputs": [],
   "source": [
    "import os\n",
    "dirs = os.listdir('../../data/images/')\n",
    "dirs = dirs[:-1]"
   ]
  },
  {
   "cell_type": "code",
   "execution_count": 18,
   "id": "4dacd376",
   "metadata": {},
   "outputs": [],
   "source": [
    "paths_df = {}\n",
    "\n",
    "for dir_ in dirs:\n",
    "    paths = os.listdir(f'../../data/images/{dir_}')\n",
    "    paths_df[dir_] = [f'../../data/images/{dir_}/{path}' for path in sorted(paths)]\n",
    "\n",
    "    \n",
    "import pandas as pd\n",
    "paths_df = pd.DataFrame(paths_df)"
   ]
  },
  {
   "cell_type": "code",
   "execution_count": 19,
   "id": "02a2ff68",
   "metadata": {},
   "outputs": [
    {
     "data": {
      "text/html": [
       "<div>\n",
       "<style scoped>\n",
       "    .dataframe tbody tr th:only-of-type {\n",
       "        vertical-align: middle;\n",
       "    }\n",
       "\n",
       "    .dataframe tbody tr th {\n",
       "        vertical-align: top;\n",
       "    }\n",
       "\n",
       "    .dataframe thead th {\n",
       "        text-align: right;\n",
       "    }\n",
       "</style>\n",
       "<table border=\"1\" class=\"dataframe\">\n",
       "  <thead>\n",
       "    <tr style=\"text-align: right;\">\n",
       "      <th></th>\n",
       "      <th>Rain</th>\n",
       "      <th>Min_Wind_Speed</th>\n",
       "      <th>Max_Temp</th>\n",
       "      <th>Max_Wind_Speed</th>\n",
       "      <th>Min_Temp</th>\n",
       "      <th>Min_Humidity</th>\n",
       "      <th>Max_Humidity</th>\n",
       "    </tr>\n",
       "  </thead>\n",
       "  <tbody>\n",
       "    <tr>\n",
       "      <th>0</th>\n",
       "      <td>../../data/images/Rain/2018-01-01.png</td>\n",
       "      <td>../../data/images/Min_Wind_Speed/2018-01-01.png</td>\n",
       "      <td>../../data/images/Max_Temp/2018-01-01.png</td>\n",
       "      <td>../../data/images/Max_Wind_Speed/2018-01-01.png</td>\n",
       "      <td>../../data/images/Min_Temp/2018-01-01.png</td>\n",
       "      <td>../../data/images/Min_Humidity/2018-01-01.png</td>\n",
       "      <td>../../data/images/Max_Humidity/2018-01-01.png</td>\n",
       "    </tr>\n",
       "    <tr>\n",
       "      <th>1</th>\n",
       "      <td>../../data/images/Rain/2018-01-02.png</td>\n",
       "      <td>../../data/images/Min_Wind_Speed/2018-01-02.png</td>\n",
       "      <td>../../data/images/Max_Temp/2018-01-02.png</td>\n",
       "      <td>../../data/images/Max_Wind_Speed/2018-01-02.png</td>\n",
       "      <td>../../data/images/Min_Temp/2018-01-02.png</td>\n",
       "      <td>../../data/images/Min_Humidity/2018-01-02.png</td>\n",
       "      <td>../../data/images/Max_Humidity/2018-01-02.png</td>\n",
       "    </tr>\n",
       "    <tr>\n",
       "      <th>2</th>\n",
       "      <td>../../data/images/Rain/2018-01-03.png</td>\n",
       "      <td>../../data/images/Min_Wind_Speed/2018-01-03.png</td>\n",
       "      <td>../../data/images/Max_Temp/2018-01-03.png</td>\n",
       "      <td>../../data/images/Max_Wind_Speed/2018-01-03.png</td>\n",
       "      <td>../../data/images/Min_Temp/2018-01-03.png</td>\n",
       "      <td>../../data/images/Min_Humidity/2018-01-03.png</td>\n",
       "      <td>../../data/images/Max_Humidity/2018-01-03.png</td>\n",
       "    </tr>\n",
       "    <tr>\n",
       "      <th>3</th>\n",
       "      <td>../../data/images/Rain/2018-01-04.png</td>\n",
       "      <td>../../data/images/Min_Wind_Speed/2018-01-04.png</td>\n",
       "      <td>../../data/images/Max_Temp/2018-01-04.png</td>\n",
       "      <td>../../data/images/Max_Wind_Speed/2018-01-04.png</td>\n",
       "      <td>../../data/images/Min_Temp/2018-01-04.png</td>\n",
       "      <td>../../data/images/Min_Humidity/2018-01-04.png</td>\n",
       "      <td>../../data/images/Max_Humidity/2018-01-04.png</td>\n",
       "    </tr>\n",
       "    <tr>\n",
       "      <th>4</th>\n",
       "      <td>../../data/images/Rain/2018-01-05.png</td>\n",
       "      <td>../../data/images/Min_Wind_Speed/2018-01-05.png</td>\n",
       "      <td>../../data/images/Max_Temp/2018-01-05.png</td>\n",
       "      <td>../../data/images/Max_Wind_Speed/2018-01-05.png</td>\n",
       "      <td>../../data/images/Min_Temp/2018-01-05.png</td>\n",
       "      <td>../../data/images/Min_Humidity/2018-01-05.png</td>\n",
       "      <td>../../data/images/Max_Humidity/2018-01-05.png</td>\n",
       "    </tr>\n",
       "    <tr>\n",
       "      <th>...</th>\n",
       "      <td>...</td>\n",
       "      <td>...</td>\n",
       "      <td>...</td>\n",
       "      <td>...</td>\n",
       "      <td>...</td>\n",
       "      <td>...</td>\n",
       "      <td>...</td>\n",
       "    </tr>\n",
       "    <tr>\n",
       "      <th>603</th>\n",
       "      <td>../../data/images/Rain/2022-06-26.png</td>\n",
       "      <td>../../data/images/Min_Wind_Speed/2022-06-26.png</td>\n",
       "      <td>../../data/images/Max_Temp/2022-06-26.png</td>\n",
       "      <td>../../data/images/Max_Wind_Speed/2022-06-26.png</td>\n",
       "      <td>../../data/images/Min_Temp/2022-06-26.png</td>\n",
       "      <td>../../data/images/Min_Humidity/2022-06-26.png</td>\n",
       "      <td>../../data/images/Max_Humidity/2022-06-26.png</td>\n",
       "    </tr>\n",
       "    <tr>\n",
       "      <th>604</th>\n",
       "      <td>../../data/images/Rain/2022-06-27.png</td>\n",
       "      <td>../../data/images/Min_Wind_Speed/2022-06-27.png</td>\n",
       "      <td>../../data/images/Max_Temp/2022-06-27.png</td>\n",
       "      <td>../../data/images/Max_Wind_Speed/2022-06-27.png</td>\n",
       "      <td>../../data/images/Min_Temp/2022-06-27.png</td>\n",
       "      <td>../../data/images/Min_Humidity/2022-06-27.png</td>\n",
       "      <td>../../data/images/Max_Humidity/2022-06-27.png</td>\n",
       "    </tr>\n",
       "    <tr>\n",
       "      <th>605</th>\n",
       "      <td>../../data/images/Rain/2022-06-28.png</td>\n",
       "      <td>../../data/images/Min_Wind_Speed/2022-06-28.png</td>\n",
       "      <td>../../data/images/Max_Temp/2022-06-28.png</td>\n",
       "      <td>../../data/images/Max_Wind_Speed/2022-06-28.png</td>\n",
       "      <td>../../data/images/Min_Temp/2022-06-28.png</td>\n",
       "      <td>../../data/images/Min_Humidity/2022-06-28.png</td>\n",
       "      <td>../../data/images/Max_Humidity/2022-06-28.png</td>\n",
       "    </tr>\n",
       "    <tr>\n",
       "      <th>606</th>\n",
       "      <td>../../data/images/Rain/2022-06-29.png</td>\n",
       "      <td>../../data/images/Min_Wind_Speed/2022-06-29.png</td>\n",
       "      <td>../../data/images/Max_Temp/2022-06-29.png</td>\n",
       "      <td>../../data/images/Max_Wind_Speed/2022-06-29.png</td>\n",
       "      <td>../../data/images/Min_Temp/2022-06-29.png</td>\n",
       "      <td>../../data/images/Min_Humidity/2022-06-29.png</td>\n",
       "      <td>../../data/images/Max_Humidity/2022-06-29.png</td>\n",
       "    </tr>\n",
       "    <tr>\n",
       "      <th>607</th>\n",
       "      <td>../../data/images/Rain/2022-06-30.png</td>\n",
       "      <td>../../data/images/Min_Wind_Speed/2022-06-30.png</td>\n",
       "      <td>../../data/images/Max_Temp/2022-06-30.png</td>\n",
       "      <td>../../data/images/Max_Wind_Speed/2022-06-30.png</td>\n",
       "      <td>../../data/images/Min_Temp/2022-06-30.png</td>\n",
       "      <td>../../data/images/Min_Humidity/2022-06-30.png</td>\n",
       "      <td>../../data/images/Max_Humidity/2022-06-30.png</td>\n",
       "    </tr>\n",
       "  </tbody>\n",
       "</table>\n",
       "<p>608 rows × 7 columns</p>\n",
       "</div>"
      ],
      "text/plain": [
       "                                      Rain  \\\n",
       "0    ../../data/images/Rain/2018-01-01.png   \n",
       "1    ../../data/images/Rain/2018-01-02.png   \n",
       "2    ../../data/images/Rain/2018-01-03.png   \n",
       "3    ../../data/images/Rain/2018-01-04.png   \n",
       "4    ../../data/images/Rain/2018-01-05.png   \n",
       "..                                     ...   \n",
       "603  ../../data/images/Rain/2022-06-26.png   \n",
       "604  ../../data/images/Rain/2022-06-27.png   \n",
       "605  ../../data/images/Rain/2022-06-28.png   \n",
       "606  ../../data/images/Rain/2022-06-29.png   \n",
       "607  ../../data/images/Rain/2022-06-30.png   \n",
       "\n",
       "                                      Min_Wind_Speed  \\\n",
       "0    ../../data/images/Min_Wind_Speed/2018-01-01.png   \n",
       "1    ../../data/images/Min_Wind_Speed/2018-01-02.png   \n",
       "2    ../../data/images/Min_Wind_Speed/2018-01-03.png   \n",
       "3    ../../data/images/Min_Wind_Speed/2018-01-04.png   \n",
       "4    ../../data/images/Min_Wind_Speed/2018-01-05.png   \n",
       "..                                               ...   \n",
       "603  ../../data/images/Min_Wind_Speed/2022-06-26.png   \n",
       "604  ../../data/images/Min_Wind_Speed/2022-06-27.png   \n",
       "605  ../../data/images/Min_Wind_Speed/2022-06-28.png   \n",
       "606  ../../data/images/Min_Wind_Speed/2022-06-29.png   \n",
       "607  ../../data/images/Min_Wind_Speed/2022-06-30.png   \n",
       "\n",
       "                                      Max_Temp  \\\n",
       "0    ../../data/images/Max_Temp/2018-01-01.png   \n",
       "1    ../../data/images/Max_Temp/2018-01-02.png   \n",
       "2    ../../data/images/Max_Temp/2018-01-03.png   \n",
       "3    ../../data/images/Max_Temp/2018-01-04.png   \n",
       "4    ../../data/images/Max_Temp/2018-01-05.png   \n",
       "..                                         ...   \n",
       "603  ../../data/images/Max_Temp/2022-06-26.png   \n",
       "604  ../../data/images/Max_Temp/2022-06-27.png   \n",
       "605  ../../data/images/Max_Temp/2022-06-28.png   \n",
       "606  ../../data/images/Max_Temp/2022-06-29.png   \n",
       "607  ../../data/images/Max_Temp/2022-06-30.png   \n",
       "\n",
       "                                      Max_Wind_Speed  \\\n",
       "0    ../../data/images/Max_Wind_Speed/2018-01-01.png   \n",
       "1    ../../data/images/Max_Wind_Speed/2018-01-02.png   \n",
       "2    ../../data/images/Max_Wind_Speed/2018-01-03.png   \n",
       "3    ../../data/images/Max_Wind_Speed/2018-01-04.png   \n",
       "4    ../../data/images/Max_Wind_Speed/2018-01-05.png   \n",
       "..                                               ...   \n",
       "603  ../../data/images/Max_Wind_Speed/2022-06-26.png   \n",
       "604  ../../data/images/Max_Wind_Speed/2022-06-27.png   \n",
       "605  ../../data/images/Max_Wind_Speed/2022-06-28.png   \n",
       "606  ../../data/images/Max_Wind_Speed/2022-06-29.png   \n",
       "607  ../../data/images/Max_Wind_Speed/2022-06-30.png   \n",
       "\n",
       "                                      Min_Temp  \\\n",
       "0    ../../data/images/Min_Temp/2018-01-01.png   \n",
       "1    ../../data/images/Min_Temp/2018-01-02.png   \n",
       "2    ../../data/images/Min_Temp/2018-01-03.png   \n",
       "3    ../../data/images/Min_Temp/2018-01-04.png   \n",
       "4    ../../data/images/Min_Temp/2018-01-05.png   \n",
       "..                                         ...   \n",
       "603  ../../data/images/Min_Temp/2022-06-26.png   \n",
       "604  ../../data/images/Min_Temp/2022-06-27.png   \n",
       "605  ../../data/images/Min_Temp/2022-06-28.png   \n",
       "606  ../../data/images/Min_Temp/2022-06-29.png   \n",
       "607  ../../data/images/Min_Temp/2022-06-30.png   \n",
       "\n",
       "                                      Min_Humidity  \\\n",
       "0    ../../data/images/Min_Humidity/2018-01-01.png   \n",
       "1    ../../data/images/Min_Humidity/2018-01-02.png   \n",
       "2    ../../data/images/Min_Humidity/2018-01-03.png   \n",
       "3    ../../data/images/Min_Humidity/2018-01-04.png   \n",
       "4    ../../data/images/Min_Humidity/2018-01-05.png   \n",
       "..                                             ...   \n",
       "603  ../../data/images/Min_Humidity/2022-06-26.png   \n",
       "604  ../../data/images/Min_Humidity/2022-06-27.png   \n",
       "605  ../../data/images/Min_Humidity/2022-06-28.png   \n",
       "606  ../../data/images/Min_Humidity/2022-06-29.png   \n",
       "607  ../../data/images/Min_Humidity/2022-06-30.png   \n",
       "\n",
       "                                      Max_Humidity  \n",
       "0    ../../data/images/Max_Humidity/2018-01-01.png  \n",
       "1    ../../data/images/Max_Humidity/2018-01-02.png  \n",
       "2    ../../data/images/Max_Humidity/2018-01-03.png  \n",
       "3    ../../data/images/Max_Humidity/2018-01-04.png  \n",
       "4    ../../data/images/Max_Humidity/2018-01-05.png  \n",
       "..                                             ...  \n",
       "603  ../../data/images/Max_Humidity/2022-06-26.png  \n",
       "604  ../../data/images/Max_Humidity/2022-06-27.png  \n",
       "605  ../../data/images/Max_Humidity/2022-06-28.png  \n",
       "606  ../../data/images/Max_Humidity/2022-06-29.png  \n",
       "607  ../../data/images/Max_Humidity/2022-06-30.png  \n",
       "\n",
       "[608 rows x 7 columns]"
      ]
     },
     "execution_count": 19,
     "metadata": {},
     "output_type": "execute_result"
    }
   ],
   "source": [
    "paths_df"
   ]
  },
  {
   "cell_type": "code",
   "execution_count": 20,
   "id": "1abe4926",
   "metadata": {},
   "outputs": [],
   "source": [
    "paths_df.to_csv('../../images.csv', index=False)"
   ]
  },
  {
   "cell_type": "code",
   "execution_count": 21,
   "id": "eda4027a",
   "metadata": {},
   "outputs": [],
   "source": [
    "input_paths = []\n",
    "output_paths = []\n",
    "window_size = 5\n",
    "\n",
    "for ix in range(0, len(paths_df) - window_size):\n",
    "    input_paths.append(paths_df.iloc[ix:ix + window_size].reset_index(drop=True))\n",
    "    output_paths.append(paths_df.iloc[ix + window_size])"
   ]
  },
  {
   "cell_type": "code",
   "execution_count": 22,
   "id": "77146e8d",
   "metadata": {},
   "outputs": [
    {
     "data": {
      "text/plain": [
       "(603, 603)"
      ]
     },
     "execution_count": 22,
     "metadata": {},
     "output_type": "execute_result"
    }
   ],
   "source": [
    "len(input_paths), len(output_paths)"
   ]
  },
  {
   "cell_type": "code",
   "execution_count": 23,
   "id": "8a5a1ba3",
   "metadata": {},
   "outputs": [
    {
     "data": {
      "text/html": [
       "<div>\n",
       "<style scoped>\n",
       "    .dataframe tbody tr th:only-of-type {\n",
       "        vertical-align: middle;\n",
       "    }\n",
       "\n",
       "    .dataframe tbody tr th {\n",
       "        vertical-align: top;\n",
       "    }\n",
       "\n",
       "    .dataframe thead th {\n",
       "        text-align: right;\n",
       "    }\n",
       "</style>\n",
       "<table border=\"1\" class=\"dataframe\">\n",
       "  <thead>\n",
       "    <tr style=\"text-align: right;\">\n",
       "      <th></th>\n",
       "      <th>Rain</th>\n",
       "      <th>Min_Wind_Speed</th>\n",
       "      <th>Max_Temp</th>\n",
       "      <th>Max_Wind_Speed</th>\n",
       "      <th>Min_Temp</th>\n",
       "      <th>Min_Humidity</th>\n",
       "      <th>Max_Humidity</th>\n",
       "    </tr>\n",
       "  </thead>\n",
       "  <tbody>\n",
       "    <tr>\n",
       "      <th>0</th>\n",
       "      <td>../../data/images/Rain/2018-01-02.png</td>\n",
       "      <td>../../data/images/Min_Wind_Speed/2018-01-02.png</td>\n",
       "      <td>../../data/images/Max_Temp/2018-01-02.png</td>\n",
       "      <td>../../data/images/Max_Wind_Speed/2018-01-02.png</td>\n",
       "      <td>../../data/images/Min_Temp/2018-01-02.png</td>\n",
       "      <td>../../data/images/Min_Humidity/2018-01-02.png</td>\n",
       "      <td>../../data/images/Max_Humidity/2018-01-02.png</td>\n",
       "    </tr>\n",
       "    <tr>\n",
       "      <th>1</th>\n",
       "      <td>../../data/images/Rain/2018-01-03.png</td>\n",
       "      <td>../../data/images/Min_Wind_Speed/2018-01-03.png</td>\n",
       "      <td>../../data/images/Max_Temp/2018-01-03.png</td>\n",
       "      <td>../../data/images/Max_Wind_Speed/2018-01-03.png</td>\n",
       "      <td>../../data/images/Min_Temp/2018-01-03.png</td>\n",
       "      <td>../../data/images/Min_Humidity/2018-01-03.png</td>\n",
       "      <td>../../data/images/Max_Humidity/2018-01-03.png</td>\n",
       "    </tr>\n",
       "    <tr>\n",
       "      <th>2</th>\n",
       "      <td>../../data/images/Rain/2018-01-04.png</td>\n",
       "      <td>../../data/images/Min_Wind_Speed/2018-01-04.png</td>\n",
       "      <td>../../data/images/Max_Temp/2018-01-04.png</td>\n",
       "      <td>../../data/images/Max_Wind_Speed/2018-01-04.png</td>\n",
       "      <td>../../data/images/Min_Temp/2018-01-04.png</td>\n",
       "      <td>../../data/images/Min_Humidity/2018-01-04.png</td>\n",
       "      <td>../../data/images/Max_Humidity/2018-01-04.png</td>\n",
       "    </tr>\n",
       "    <tr>\n",
       "      <th>3</th>\n",
       "      <td>../../data/images/Rain/2018-01-05.png</td>\n",
       "      <td>../../data/images/Min_Wind_Speed/2018-01-05.png</td>\n",
       "      <td>../../data/images/Max_Temp/2018-01-05.png</td>\n",
       "      <td>../../data/images/Max_Wind_Speed/2018-01-05.png</td>\n",
       "      <td>../../data/images/Min_Temp/2018-01-05.png</td>\n",
       "      <td>../../data/images/Min_Humidity/2018-01-05.png</td>\n",
       "      <td>../../data/images/Max_Humidity/2018-01-05.png</td>\n",
       "    </tr>\n",
       "    <tr>\n",
       "      <th>4</th>\n",
       "      <td>../../data/images/Rain/2018-01-06.png</td>\n",
       "      <td>../../data/images/Min_Wind_Speed/2018-01-06.png</td>\n",
       "      <td>../../data/images/Max_Temp/2018-01-06.png</td>\n",
       "      <td>../../data/images/Max_Wind_Speed/2018-01-06.png</td>\n",
       "      <td>../../data/images/Min_Temp/2018-01-06.png</td>\n",
       "      <td>../../data/images/Min_Humidity/2018-01-06.png</td>\n",
       "      <td>../../data/images/Max_Humidity/2018-01-06.png</td>\n",
       "    </tr>\n",
       "  </tbody>\n",
       "</table>\n",
       "</div>"
      ],
      "text/plain": [
       "                                    Rain  \\\n",
       "0  ../../data/images/Rain/2018-01-02.png   \n",
       "1  ../../data/images/Rain/2018-01-03.png   \n",
       "2  ../../data/images/Rain/2018-01-04.png   \n",
       "3  ../../data/images/Rain/2018-01-05.png   \n",
       "4  ../../data/images/Rain/2018-01-06.png   \n",
       "\n",
       "                                    Min_Wind_Speed  \\\n",
       "0  ../../data/images/Min_Wind_Speed/2018-01-02.png   \n",
       "1  ../../data/images/Min_Wind_Speed/2018-01-03.png   \n",
       "2  ../../data/images/Min_Wind_Speed/2018-01-04.png   \n",
       "3  ../../data/images/Min_Wind_Speed/2018-01-05.png   \n",
       "4  ../../data/images/Min_Wind_Speed/2018-01-06.png   \n",
       "\n",
       "                                    Max_Temp  \\\n",
       "0  ../../data/images/Max_Temp/2018-01-02.png   \n",
       "1  ../../data/images/Max_Temp/2018-01-03.png   \n",
       "2  ../../data/images/Max_Temp/2018-01-04.png   \n",
       "3  ../../data/images/Max_Temp/2018-01-05.png   \n",
       "4  ../../data/images/Max_Temp/2018-01-06.png   \n",
       "\n",
       "                                    Max_Wind_Speed  \\\n",
       "0  ../../data/images/Max_Wind_Speed/2018-01-02.png   \n",
       "1  ../../data/images/Max_Wind_Speed/2018-01-03.png   \n",
       "2  ../../data/images/Max_Wind_Speed/2018-01-04.png   \n",
       "3  ../../data/images/Max_Wind_Speed/2018-01-05.png   \n",
       "4  ../../data/images/Max_Wind_Speed/2018-01-06.png   \n",
       "\n",
       "                                    Min_Temp  \\\n",
       "0  ../../data/images/Min_Temp/2018-01-02.png   \n",
       "1  ../../data/images/Min_Temp/2018-01-03.png   \n",
       "2  ../../data/images/Min_Temp/2018-01-04.png   \n",
       "3  ../../data/images/Min_Temp/2018-01-05.png   \n",
       "4  ../../data/images/Min_Temp/2018-01-06.png   \n",
       "\n",
       "                                    Min_Humidity  \\\n",
       "0  ../../data/images/Min_Humidity/2018-01-02.png   \n",
       "1  ../../data/images/Min_Humidity/2018-01-03.png   \n",
       "2  ../../data/images/Min_Humidity/2018-01-04.png   \n",
       "3  ../../data/images/Min_Humidity/2018-01-05.png   \n",
       "4  ../../data/images/Min_Humidity/2018-01-06.png   \n",
       "\n",
       "                                    Max_Humidity  \n",
       "0  ../../data/images/Max_Humidity/2018-01-02.png  \n",
       "1  ../../data/images/Max_Humidity/2018-01-03.png  \n",
       "2  ../../data/images/Max_Humidity/2018-01-04.png  \n",
       "3  ../../data/images/Max_Humidity/2018-01-05.png  \n",
       "4  ../../data/images/Max_Humidity/2018-01-06.png  "
      ]
     },
     "execution_count": 23,
     "metadata": {},
     "output_type": "execute_result"
    }
   ],
   "source": [
    "input_paths[1]"
   ]
  },
  {
   "cell_type": "code",
   "execution_count": 24,
   "id": "db677a26",
   "metadata": {},
   "outputs": [
    {
     "data": {
      "text/plain": [
       "Rain                        ../../data/images/Rain/2018-01-06.png\n",
       "Min_Wind_Speed    ../../data/images/Min_Wind_Speed/2018-01-06.png\n",
       "Max_Temp                ../../data/images/Max_Temp/2018-01-06.png\n",
       "Max_Wind_Speed    ../../data/images/Max_Wind_Speed/2018-01-06.png\n",
       "Min_Temp                ../../data/images/Min_Temp/2018-01-06.png\n",
       "Min_Humidity        ../../data/images/Min_Humidity/2018-01-06.png\n",
       "Max_Humidity        ../../data/images/Max_Humidity/2018-01-06.png\n",
       "Name: 5, dtype: object"
      ]
     },
     "execution_count": 24,
     "metadata": {},
     "output_type": "execute_result"
    }
   ],
   "source": [
    "output_paths[0]"
   ]
  },
  {
   "cell_type": "code",
   "execution_count": 25,
   "id": "d5a93ad3",
   "metadata": {},
   "outputs": [
    {
     "name": "stdout",
     "output_type": "stream",
     "text": [
      "../../data/images/Rain/2018-01-06.png\n",
      "../../data/images/Min_Wind_Speed/2018-01-06.png\n",
      "../../data/images/Max_Temp/2018-01-06.png\n",
      "../../data/images/Max_Wind_Speed/2018-01-06.png\n",
      "../../data/images/Min_Temp/2018-01-06.png\n",
      "../../data/images/Min_Humidity/2018-01-06.png\n",
      "../../data/images/Max_Humidity/2018-01-06.png\n"
     ]
    }
   ],
   "source": [
    "for x in output_paths[0]:\n",
    "    print(x)"
   ]
  },
  {
   "cell_type": "code",
   "execution_count": 26,
   "id": "abcb39b5",
   "metadata": {},
   "outputs": [],
   "source": [
    "transforms = A.Compose([\n",
    "    A.Resize(224, 224),\n",
    "    A.ToGray(),\n",
    "    ToTensorV2()\n",
    "])"
   ]
  },
  {
   "cell_type": "code",
   "execution_count": 27,
   "id": "7fe8617c",
   "metadata": {},
   "outputs": [
    {
     "data": {
      "text/plain": [
       "torch.Size([7, 5, 224, 224])"
      ]
     },
     "execution_count": 27,
     "metadata": {},
     "output_type": "execute_result"
    }
   ],
   "source": [
    "X = None\n",
    "\n",
    "for ix in range(window_size):\n",
    "    paths = input_paths[0].iloc[ix]\n",
    "    input_ = None\n",
    "    for p in paths:\n",
    "        img = plt.imread(p)[:, :, :-1]\n",
    "        img = transforms(image=img)['image'].mean(axis=0).unsqueeze(0)\n",
    "        if input_ is None:\n",
    "            input_ = img\n",
    "        else:\n",
    "            input_ = torch.cat([input_, img], axis=0)\n",
    "    if X is None:\n",
    "        X = input_.unsqueeze(1)\n",
    "    else:\n",
    "        X = torch.cat([X, input_.unsqueeze(1)], axis=1)\n",
    "X.shape"
   ]
  },
  {
   "cell_type": "code",
   "execution_count": 28,
   "id": "3d40c3f1",
   "metadata": {},
   "outputs": [
    {
     "data": {
      "text/plain": [
       "Rain                        ../../data/images/Rain/2018-01-06.png\n",
       "Min_Wind_Speed    ../../data/images/Min_Wind_Speed/2018-01-06.png\n",
       "Max_Temp                ../../data/images/Max_Temp/2018-01-06.png\n",
       "Max_Wind_Speed    ../../data/images/Max_Wind_Speed/2018-01-06.png\n",
       "Min_Temp                ../../data/images/Min_Temp/2018-01-06.png\n",
       "Min_Humidity        ../../data/images/Min_Humidity/2018-01-06.png\n",
       "Max_Humidity        ../../data/images/Max_Humidity/2018-01-06.png\n",
       "Name: 5, dtype: object"
      ]
     },
     "execution_count": 28,
     "metadata": {},
     "output_type": "execute_result"
    }
   ],
   "source": [
    "output_paths[0]"
   ]
  },
  {
   "cell_type": "code",
   "execution_count": 29,
   "id": "05539d2f",
   "metadata": {},
   "outputs": [
    {
     "name": "stdout",
     "output_type": "stream",
     "text": [
      "../../data/images/Rain/2018-01-06.png\n",
      "../../data/images/Min_Wind_Speed/2018-01-06.png\n",
      "../../data/images/Max_Temp/2018-01-06.png\n",
      "../../data/images/Max_Wind_Speed/2018-01-06.png\n",
      "../../data/images/Min_Temp/2018-01-06.png\n",
      "../../data/images/Min_Humidity/2018-01-06.png\n",
      "../../data/images/Max_Humidity/2018-01-06.png\n"
     ]
    },
    {
     "data": {
      "text/plain": [
       "torch.Size([7, 224, 224])"
      ]
     },
     "execution_count": 29,
     "metadata": {},
     "output_type": "execute_result"
    }
   ],
   "source": [
    "X = None\n",
    "\n",
    "for ix in range(1):\n",
    "    paths = output_paths[0]\n",
    "    input_ = None\n",
    "    for p in paths:\n",
    "        print(p)\n",
    "        img = plt.imread(p)[:, :, :-1]\n",
    "        img = transforms(image=img)['image'].mean(axis=0).unsqueeze(0)\n",
    "        if input_ is None:\n",
    "            input_ = img\n",
    "        else:\n",
    "            input_ = torch.cat([input_, img], axis=0)\n",
    "    if X is None:\n",
    "        X = input_\n",
    "    else:\n",
    "        X = torch.cat([X, input_], axis=1)\n",
    "X.shape"
   ]
  },
  {
   "cell_type": "code",
   "execution_count": 30,
   "id": "ab1defe1",
   "metadata": {},
   "outputs": [],
   "source": [
    "class Pix2PixRNNDataset(Dataset):\n",
    "    # TODO: Implement Datasets\n",
    "    def __init__(self, df: pd.DataFrame, window_size: int) -> None:\n",
    "        super(Pix2PixRNNDataset, self).__init__()\n",
    "        self.input_paths = []\n",
    "        self.output_paths = []\n",
    "        self.window_size = window_size\n",
    "\n",
    "        for ix in range(0, len(df) - self.window_size):\n",
    "            self.input_paths.append(df.iloc[ix:ix + window_size])\n",
    "            self.output_paths.append(df.iloc[ix + window_size])\n",
    "\n",
    "        self.transforms = A.Compose([\n",
    "            A.Resize(224, 224),\n",
    "            A.ToGray(),\n",
    "            ToTensorV2()\n",
    "        ])\n",
    "\n",
    "    def __len__(self) -> int:\n",
    "        return len(self.input_paths)\n",
    "    \n",
    "    def __getitem__(self, ix: int) -> Dict[str, torch.Tensor]:\n",
    "        x = None\n",
    "        input_paths = self.input_paths[ix]\n",
    "        output_paths = self.output_paths[ix]\n",
    "\n",
    "        for ix in range(self.window_size):\n",
    "            paths = input_paths.iloc[ix]\n",
    "            input_ = None\n",
    "            for p in paths:\n",
    "                img = plt.imread(p)[:, :, :-1]\n",
    "                img = self.transforms(image=img)['image'].mean(axis=0).unsqueeze(0)\n",
    "                if input_ is None:\n",
    "                    input_ = img\n",
    "                else:\n",
    "                    input_ = torch.cat([input_, img], axis=0)\n",
    "            if x is None:\n",
    "                x = input_.unsqueeze(1)\n",
    "            else:\n",
    "                x = torch.cat([x, input_.unsqueeze(1)], axis=1)\n",
    "\n",
    "        y = None\n",
    "        for ix in range(1):\n",
    "            paths = output_paths\n",
    "            input_ = None\n",
    "            for p in paths:\n",
    "                img = plt.imread(p)[:, :, :-1]\n",
    "                img = self.transforms(image=img)['image'].mean(axis=0).unsqueeze(0)\n",
    "                if input_ is None:\n",
    "                    input_ = img\n",
    "                else:\n",
    "                    input_ = torch.cat([input_, img], axis=0)\n",
    "            if y is None:\n",
    "                y = input_\n",
    "            else:\n",
    "                y = torch.cat([x, input_], axis=1)\n",
    "        \n",
    "        return x, nn.Sigmoid()(y)"
   ]
  },
  {
   "cell_type": "code",
   "execution_count": 31,
   "id": "1829ae9a",
   "metadata": {},
   "outputs": [
    {
     "name": "stdout",
     "output_type": "stream",
     "text": [
      "<__main__.Pix2PixRNNDataset object at 0x32cfb3af0>\n"
     ]
    }
   ],
   "source": [
    "dataset = Pix2PixRNNDataset(df=pd.read_csv('../../images.csv'), window_size=5)\n",
    "print(dataset)"
   ]
  },
  {
   "cell_type": "code",
   "execution_count": 32,
   "id": "50c7dc43",
   "metadata": {},
   "outputs": [
    {
     "name": "stdout",
     "output_type": "stream",
     "text": [
      "<torch.utils.data.dataloader.DataLoader object at 0x32d198670>\n"
     ]
    }
   ],
   "source": [
    "dataloader = DataLoader(dataset=dataset, batch_size=2)\n",
    "print(dataloader)"
   ]
  },
  {
   "cell_type": "code",
   "execution_count": 33,
   "id": "b005e400",
   "metadata": {},
   "outputs": [
    {
     "data": {
      "text/plain": [
       "torch.Size([2, 7, 224, 224])"
      ]
     },
     "execution_count": 33,
     "metadata": {},
     "output_type": "execute_result"
    }
   ],
   "source": [
    "X, y = next(iter(dataloader))\n",
    "y.shape"
   ]
  },
  {
   "cell_type": "code",
   "execution_count": 34,
   "id": "9ebcdad9",
   "metadata": {},
   "outputs": [
    {
     "data": {
      "image/png": "[encoded data removed]",
      "text/plain": [
       "<Figure size 1200x1200 with 14 Axes>"
      ]
     },
     "metadata": {},
     "output_type": "display_data"
    }
   ],
   "source": [
    "get_prediction_plots(y=y, yHat=y)"
   ]
  },
  {
   "cell_type": "markdown",
   "id": "25a0fc7d",
   "metadata": {},
   "source": [
    "\n",
    "# Training"
   ]
  },
  {
   "cell_type": "code",
   "execution_count": 35,
   "id": "3339a1d6",
   "metadata": {},
   "outputs": [
    {
     "data": {
      "text/html": [
       "<div>\n",
       "<style scoped>\n",
       "    .dataframe tbody tr th:only-of-type {\n",
       "        vertical-align: middle;\n",
       "    }\n",
       "\n",
       "    .dataframe tbody tr th {\n",
       "        vertical-align: top;\n",
       "    }\n",
       "\n",
       "    .dataframe thead th {\n",
       "        text-align: right;\n",
       "    }\n",
       "</style>\n",
       "<table border=\"1\" class=\"dataframe\">\n",
       "  <thead>\n",
       "    <tr style=\"text-align: right;\">\n",
       "      <th></th>\n",
       "      <th>Rain</th>\n",
       "      <th>Min_Wind_Speed</th>\n",
       "      <th>Max_Temp</th>\n",
       "      <th>Max_Wind_Speed</th>\n",
       "      <th>Min_Temp</th>\n",
       "      <th>Min_Humidity</th>\n",
       "      <th>Max_Humidity</th>\n",
       "    </tr>\n",
       "  </thead>\n",
       "  <tbody>\n",
       "    <tr>\n",
       "      <th>0</th>\n",
       "      <td>../../data/images/Rain/2018-01-01.png</td>\n",
       "      <td>../../data/images/Min_Wind_Speed/2018-01-01.png</td>\n",
       "      <td>../../data/images/Max_Temp/2018-01-01.png</td>\n",
       "      <td>../../data/images/Max_Wind_Speed/2018-01-01.png</td>\n",
       "      <td>../../data/images/Min_Temp/2018-01-01.png</td>\n",
       "      <td>../../data/images/Min_Humidity/2018-01-01.png</td>\n",
       "      <td>../../data/images/Max_Humidity/2018-01-01.png</td>\n",
       "    </tr>\n",
       "    <tr>\n",
       "      <th>1</th>\n",
       "      <td>../../data/images/Rain/2018-01-02.png</td>\n",
       "      <td>../../data/images/Min_Wind_Speed/2018-01-02.png</td>\n",
       "      <td>../../data/images/Max_Temp/2018-01-02.png</td>\n",
       "      <td>../../data/images/Max_Wind_Speed/2018-01-02.png</td>\n",
       "      <td>../../data/images/Min_Temp/2018-01-02.png</td>\n",
       "      <td>../../data/images/Min_Humidity/2018-01-02.png</td>\n",
       "      <td>../../data/images/Max_Humidity/2018-01-02.png</td>\n",
       "    </tr>\n",
       "    <tr>\n",
       "      <th>2</th>\n",
       "      <td>../../data/images/Rain/2018-01-03.png</td>\n",
       "      <td>../../data/images/Min_Wind_Speed/2018-01-03.png</td>\n",
       "      <td>../../data/images/Max_Temp/2018-01-03.png</td>\n",
       "      <td>../../data/images/Max_Wind_Speed/2018-01-03.png</td>\n",
       "      <td>../../data/images/Min_Temp/2018-01-03.png</td>\n",
       "      <td>../../data/images/Min_Humidity/2018-01-03.png</td>\n",
       "      <td>../../data/images/Max_Humidity/2018-01-03.png</td>\n",
       "    </tr>\n",
       "    <tr>\n",
       "      <th>3</th>\n",
       "      <td>../../data/images/Rain/2018-01-04.png</td>\n",
       "      <td>../../data/images/Min_Wind_Speed/2018-01-04.png</td>\n",
       "      <td>../../data/images/Max_Temp/2018-01-04.png</td>\n",
       "      <td>../../data/images/Max_Wind_Speed/2018-01-04.png</td>\n",
       "      <td>../../data/images/Min_Temp/2018-01-04.png</td>\n",
       "      <td>../../data/images/Min_Humidity/2018-01-04.png</td>\n",
       "      <td>../../data/images/Max_Humidity/2018-01-04.png</td>\n",
       "    </tr>\n",
       "    <tr>\n",
       "      <th>4</th>\n",
       "      <td>../../data/images/Rain/2018-01-05.png</td>\n",
       "      <td>../../data/images/Min_Wind_Speed/2018-01-05.png</td>\n",
       "      <td>../../data/images/Max_Temp/2018-01-05.png</td>\n",
       "      <td>../../data/images/Max_Wind_Speed/2018-01-05.png</td>\n",
       "      <td>../../data/images/Min_Temp/2018-01-05.png</td>\n",
       "      <td>../../data/images/Min_Humidity/2018-01-05.png</td>\n",
       "      <td>../../data/images/Max_Humidity/2018-01-05.png</td>\n",
       "    </tr>\n",
       "    <tr>\n",
       "      <th>...</th>\n",
       "      <td>...</td>\n",
       "      <td>...</td>\n",
       "      <td>...</td>\n",
       "      <td>...</td>\n",
       "      <td>...</td>\n",
       "      <td>...</td>\n",
       "      <td>...</td>\n",
       "    </tr>\n",
       "    <tr>\n",
       "      <th>603</th>\n",
       "      <td>../../data/images/Rain/2022-06-26.png</td>\n",
       "      <td>../../data/images/Min_Wind_Speed/2022-06-26.png</td>\n",
       "      <td>../../data/images/Max_Temp/2022-06-26.png</td>\n",
       "      <td>../../data/images/Max_Wind_Speed/2022-06-26.png</td>\n",
       "      <td>../../data/images/Min_Temp/2022-06-26.png</td>\n",
       "      <td>../../data/images/Min_Humidity/2022-06-26.png</td>\n",
       "      <td>../../data/images/Max_Humidity/2022-06-26.png</td>\n",
       "    </tr>\n",
       "    <tr>\n",
       "      <th>604</th>\n",
       "      <td>../../data/images/Rain/2022-06-27.png</td>\n",
       "      <td>../../data/images/Min_Wind_Speed/2022-06-27.png</td>\n",
       "      <td>../../data/images/Max_Temp/2022-06-27.png</td>\n",
       "      <td>../../data/images/Max_Wind_Speed/2022-06-27.png</td>\n",
       "      <td>../../data/images/Min_Temp/2022-06-27.png</td>\n",
       "      <td>../../data/images/Min_Humidity/2022-06-27.png</td>\n",
       "      <td>../../data/images/Max_Humidity/2022-06-27.png</td>\n",
       "    </tr>\n",
       "    <tr>\n",
       "      <th>605</th>\n",
       "      <td>../../data/images/Rain/2022-06-28.png</td>\n",
       "      <td>../../data/images/Min_Wind_Speed/2022-06-28.png</td>\n",
       "      <td>../../data/images/Max_Temp/2022-06-28.png</td>\n",
       "      <td>../../data/images/Max_Wind_Speed/2022-06-28.png</td>\n",
       "      <td>../../data/images/Min_Temp/2022-06-28.png</td>\n",
       "      <td>../../data/images/Min_Humidity/2022-06-28.png</td>\n",
       "      <td>../../data/images/Max_Humidity/2022-06-28.png</td>\n",
       "    </tr>\n",
       "    <tr>\n",
       "      <th>606</th>\n",
       "      <td>../../data/images/Rain/2022-06-29.png</td>\n",
       "      <td>../../data/images/Min_Wind_Speed/2022-06-29.png</td>\n",
       "      <td>../../data/images/Max_Temp/2022-06-29.png</td>\n",
       "      <td>../../data/images/Max_Wind_Speed/2022-06-29.png</td>\n",
       "      <td>../../data/images/Min_Temp/2022-06-29.png</td>\n",
       "      <td>../../data/images/Min_Humidity/2022-06-29.png</td>\n",
       "      <td>../../data/images/Max_Humidity/2022-06-29.png</td>\n",
       "    </tr>\n",
       "    <tr>\n",
       "      <th>607</th>\n",
       "      <td>../../data/images/Rain/2022-06-30.png</td>\n",
       "      <td>../../data/images/Min_Wind_Speed/2022-06-30.png</td>\n",
       "      <td>../../data/images/Max_Temp/2022-06-30.png</td>\n",
       "      <td>../../data/images/Max_Wind_Speed/2022-06-30.png</td>\n",
       "      <td>../../data/images/Min_Temp/2022-06-30.png</td>\n",
       "      <td>../../data/images/Min_Humidity/2022-06-30.png</td>\n",
       "      <td>../../data/images/Max_Humidity/2022-06-30.png</td>\n",
       "    </tr>\n",
       "  </tbody>\n",
       "</table>\n",
       "<p>608 rows × 7 columns</p>\n",
       "</div>"
      ],
      "text/plain": [
       "                                      Rain  \\\n",
       "0    ../../data/images/Rain/2018-01-01.png   \n",
       "1    ../../data/images/Rain/2018-01-02.png   \n",
       "2    ../../data/images/Rain/2018-01-03.png   \n",
       "3    ../../data/images/Rain/2018-01-04.png   \n",
       "4    ../../data/images/Rain/2018-01-05.png   \n",
       "..                                     ...   \n",
       "603  ../../data/images/Rain/2022-06-26.png   \n",
       "604  ../../data/images/Rain/2022-06-27.png   \n",
       "605  ../../data/images/Rain/2022-06-28.png   \n",
       "606  ../../data/images/Rain/2022-06-29.png   \n",
       "607  ../../data/images/Rain/2022-06-30.png   \n",
       "\n",
       "                                      Min_Wind_Speed  \\\n",
       "0    ../../data/images/Min_Wind_Speed/2018-01-01.png   \n",
       "1    ../../data/images/Min_Wind_Speed/2018-01-02.png   \n",
       "2    ../../data/images/Min_Wind_Speed/2018-01-03.png   \n",
       "3    ../../data/images/Min_Wind_Speed/2018-01-04.png   \n",
       "4    ../../data/images/Min_Wind_Speed/2018-01-05.png   \n",
       "..                                               ...   \n",
       "603  ../../data/images/Min_Wind_Speed/2022-06-26.png   \n",
       "604  ../../data/images/Min_Wind_Speed/2022-06-27.png   \n",
       "605  ../../data/images/Min_Wind_Speed/2022-06-28.png   \n",
       "606  ../../data/images/Min_Wind_Speed/2022-06-29.png   \n",
       "607  ../../data/images/Min_Wind_Speed/2022-06-30.png   \n",
       "\n",
       "                                      Max_Temp  \\\n",
       "0    ../../data/images/Max_Temp/2018-01-01.png   \n",
       "1    ../../data/images/Max_Temp/2018-01-02.png   \n",
       "2    ../../data/images/Max_Temp/2018-01-03.png   \n",
       "3    ../../data/images/Max_Temp/2018-01-04.png   \n",
       "4    ../../data/images/Max_Temp/2018-01-05.png   \n",
       "..                                         ...   \n",
       "603  ../../data/images/Max_Temp/2022-06-26.png   \n",
       "604  ../../data/images/Max_Temp/2022-06-27.png   \n",
       "605  ../../data/images/Max_Temp/2022-06-28.png   \n",
       "606  ../../data/images/Max_Temp/2022-06-29.png   \n",
       "607  ../../data/images/Max_Temp/2022-06-30.png   \n",
       "\n",
       "                                      Max_Wind_Speed  \\\n",
       "0    ../../data/images/Max_Wind_Speed/2018-01-01.png   \n",
       "1    ../../data/images/Max_Wind_Speed/2018-01-02.png   \n",
       "2    ../../data/images/Max_Wind_Speed/2018-01-03.png   \n",
       "3    ../../data/images/Max_Wind_Speed/2018-01-04.png   \n",
       "4    ../../data/images/Max_Wind_Speed/2018-01-05.png   \n",
       "..                                               ...   \n",
       "603  ../../data/images/Max_Wind_Speed/2022-06-26.png   \n",
       "604  ../../data/images/Max_Wind_Speed/2022-06-27.png   \n",
       "605  ../../data/images/Max_Wind_Speed/2022-06-28.png   \n",
       "606  ../../data/images/Max_Wind_Speed/2022-06-29.png   \n",
       "607  ../../data/images/Max_Wind_Speed/2022-06-30.png   \n",
       "\n",
       "                                      Min_Temp  \\\n",
       "0    ../../data/images/Min_Temp/2018-01-01.png   \n",
       "1    ../../data/images/Min_Temp/2018-01-02.png   \n",
       "2    ../../data/images/Min_Temp/2018-01-03.png   \n",
       "3    ../../data/images/Min_Temp/2018-01-04.png   \n",
       "4    ../../data/images/Min_Temp/2018-01-05.png   \n",
       "..                                         ...   \n",
       "603  ../../data/images/Min_Temp/2022-06-26.png   \n",
       "604  ../../data/images/Min_Temp/2022-06-27.png   \n",
       "605  ../../data/images/Min_Temp/2022-06-28.png   \n",
       "606  ../../data/images/Min_Temp/2022-06-29.png   \n",
       "607  ../../data/images/Min_Temp/2022-06-30.png   \n",
       "\n",
       "                                      Min_Humidity  \\\n",
       "0    ../../data/images/Min_Humidity/2018-01-01.png   \n",
       "1    ../../data/images/Min_Humidity/2018-01-02.png   \n",
       "2    ../../data/images/Min_Humidity/2018-01-03.png   \n",
       "3    ../../data/images/Min_Humidity/2018-01-04.png   \n",
       "4    ../../data/images/Min_Humidity/2018-01-05.png   \n",
       "..                                             ...   \n",
       "603  ../../data/images/Min_Humidity/2022-06-26.png   \n",
       "604  ../../data/images/Min_Humidity/2022-06-27.png   \n",
       "605  ../../data/images/Min_Humidity/2022-06-28.png   \n",
       "606  ../../data/images/Min_Humidity/2022-06-29.png   \n",
       "607  ../../data/images/Min_Humidity/2022-06-30.png   \n",
       "\n",
       "                                      Max_Humidity  \n",
       "0    ../../data/images/Max_Humidity/2018-01-01.png  \n",
       "1    ../../data/images/Max_Humidity/2018-01-02.png  \n",
       "2    ../../data/images/Max_Humidity/2018-01-03.png  \n",
       "3    ../../data/images/Max_Humidity/2018-01-04.png  \n",
       "4    ../../data/images/Max_Humidity/2018-01-05.png  \n",
       "..                                             ...  \n",
       "603  ../../data/images/Max_Humidity/2022-06-26.png  \n",
       "604  ../../data/images/Max_Humidity/2022-06-27.png  \n",
       "605  ../../data/images/Max_Humidity/2022-06-28.png  \n",
       "606  ../../data/images/Max_Humidity/2022-06-29.png  \n",
       "607  ../../data/images/Max_Humidity/2022-06-30.png  \n",
       "\n",
       "[608 rows x 7 columns]"
      ]
     },
     "execution_count": 35,
     "metadata": {},
     "output_type": "execute_result"
    }
   ],
   "source": [
    "df = pd.read_csv('../../images.csv')\n",
    "df"
   ]
  },
  {
   "cell_type": "code",
   "execution_count": 36,
   "id": "d07d8ede",
   "metadata": {},
   "outputs": [],
   "source": [
    "train_df = df.iloc[:500]\n",
    "valid_df = df.iloc[500:]"
   ]
  },
  {
   "cell_type": "code",
   "execution_count": 37,
   "id": "89092990",
   "metadata": {},
   "outputs": [],
   "source": [
    "train_dataset = Pix2PixRNNDataset(df=train_df, window_size=6)\n",
    "valid_dataset = Pix2PixRNNDataset(df=valid_df, window_size=6)\n",
    "\n",
    "train_loader = DataLoader(dataset=train_dataset, batch_size=config.train_bs)\n",
    "valid_loader = DataLoader(dataset=valid_dataset, batch_size=config.valid_bs)"
   ]
  },
  {
   "cell_type": "code",
   "execution_count": null,
   "id": "7b03bd45",
   "metadata": {},
   "outputs": [
    {
     "name": "stderr",
     "output_type": "stream",
     "text": [
      "\u001b[34m\u001b[1mwandb\u001b[0m: Currently logged in as: \u001b[33maaparajit02\u001b[0m. Use \u001b[1m`wandb login --relogin`\u001b[0m to force relogin\n"
     ]
    },
    {
     "data": {
      "text/html": [
       "Tracking run with wandb version 0.13.10"
      ],
      "text/plain": [
       "<IPython.core.display.HTML object>"
      ]
     },
     "metadata": {},
     "output_type": "display_data"
    },
    {
     "data": {
      "text/html": [
       "Run data is saved locally in <code>/Users/aneeshaparajit/Desktop/NASSCOM-TAIM/models/notebooks/wandb/run-20230304_193151-yppwmdav</code>"
      ],
      "text/plain": [
       "<IPython.core.display.HTML object>"
      ]
     },
     "metadata": {},
     "output_type": "display_data"
    },
    {
     "data": {
      "text/html": [
       "Syncing run <strong><a href='https://wandb.ai/aaparajit02/nasscom-taim/runs/yppwmdav' target=\"_blank\">iteration-1</a></strong> to <a href='https://wandb.ai/aaparajit02/nasscom-taim' target=\"_blank\">Weights & Biases</a> (<a href='https://wandb.me/run' target=\"_blank\">docs</a>)<br/>"
      ],
      "text/plain": [
       "<IPython.core.display.HTML object>"
      ]
     },
     "metadata": {},
     "output_type": "display_data"
    },
    {
     "data": {
      "text/html": [
       " View project at <a href='https://wandb.ai/aaparajit02/nasscom-taim' target=\"_blank\">https://wandb.ai/aaparajit02/nasscom-taim</a>"
      ],
      "text/plain": [
       "<IPython.core.display.HTML object>"
      ]
     },
     "metadata": {},
     "output_type": "display_data"
    },
    {
     "data": {
      "text/html": [
       " View run at <a href='https://wandb.ai/aaparajit02/nasscom-taim/runs/yppwmdav' target=\"_blank\">https://wandb.ai/aaparajit02/nasscom-taim/runs/yppwmdav</a>"
      ],
      "text/plain": [
       "<IPython.core.display.HTML object>"
      ]
     },
     "metadata": {},
     "output_type": "display_data"
    },
    {
     "name": "stderr",
     "output_type": "stream",
     "text": [
      "Train:  15%|████████████████▍                                                                                             | 37/247 [02:37<14:49,  4.23s/it, loss=0.024, lr=0.00030, psnr=16.72954, ssim=0.16093]"
     ]
    }
   ],
   "source": [
    "run_training(trainloader=train_loader, validloader=valid_loader)"
   ]
  }
 ],
 "metadata": {
  "kernelspec": {
   "display_name": "Python 3.9 (torch)",
   "language": "python",
   "name": "torch-env"
  },
  "language_info": {
   "codemirror_mode": {
    "name": "ipython",
    "version": 3
   },
   "file_extension": ".py",
   "mimetype": "text/x-python",
   "name": "python",
   "nbconvert_exporter": "python",
   "pygments_lexer": "ipython3",
   "version": "3.10.8"
  },
  "toc": {
   "base_numbering": 1,
   "nav_menu": {},
   "number_sections": true,
   "sideBar": true,
   "skip_h1_title": false,
   "title_cell": "Table of Contents",
   "title_sidebar": "Contents",
   "toc_cell": false,
   "toc_position": {},
   "toc_section_display": true,
   "toc_window_display": false
  }
 },
 "nbformat": 4,
 "nbformat_minor": 5
}
