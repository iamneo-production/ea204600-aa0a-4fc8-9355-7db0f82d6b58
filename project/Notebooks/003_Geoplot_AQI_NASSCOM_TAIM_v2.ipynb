{
  "nbformat": 4,
  "nbformat_minor": 0,
  "metadata": {
    "colab": {
      "provenance": []
    },
    "kernelspec": {
      "name": "python3",
      "display_name": "Python 3"
    }
  },
  "cells": [
    {
      "cell_type": "markdown",
      "source": [
        "# Drive"
      ],
      "metadata": {
        "id": "37nP6tgjPBKT"
      }
    },
    {
      "cell_type": "code",
      "source": [
        "from google.colab import drive\n",
        "drive.mount('/gdrive')"
      ],
      "metadata": {
        "colab": {
          "base_uri": "https://localhost:8080/"
        },
        "id": "tlEjYzROPDWR",
        "outputId": "26b1c719-966c-42d5-c0c0-fdf534189967"
      },
      "execution_count": null,
      "outputs": [
        {
          "output_type": "stream",
          "name": "stdout",
          "text": [
            "Mounted at /gdrive\n"
          ]
        }
      ]
    },
    {
      "cell_type": "markdown",
      "source": [
        "# Installs"
      ],
      "metadata": {
        "id": "fHE6T_x3awFC"
      }
    },
    {
      "cell_type": "code",
      "metadata": {
        "colab": {
          "base_uri": "https://localhost:8080/"
        },
        "collapsed": true,
        "id": "3WIZODK9PlQW",
        "outputId": "3da1d2b6-f16e-4903-ef54-7329e2f1cbeb"
      },
      "source": [
        "!pip install --quiet geopandas"
      ],
      "execution_count": null,
      "outputs": [
        {
          "output_type": "stream",
          "name": "stdout",
          "text": [
            "\u001b[2K     \u001b[90m━━━━━━━━━━━━━━━━━━━━━━━━━━━━━━━━━━━━━━━━\u001b[0m \u001b[32m1.1/1.1 MB\u001b[0m \u001b[31m41.2 MB/s\u001b[0m eta \u001b[36m0:00:00\u001b[0m\n",
            "\u001b[2K     \u001b[90m━━━━━━━━━━━━━━━━━━━━━━━━━━━━━━━━━━━━━━━━\u001b[0m \u001b[32m16.0/16.0 MB\u001b[0m \u001b[31m86.7 MB/s\u001b[0m eta \u001b[36m0:00:00\u001b[0m\n",
            "\u001b[2K     \u001b[90m━━━━━━━━━━━━━━━━━━━━━━━━━━━━━━━━━━━━━━━━\u001b[0m \u001b[32m7.8/7.8 MB\u001b[0m \u001b[31m112.1 MB/s\u001b[0m eta \u001b[36m0:00:00\u001b[0m\n",
            "\u001b[?25h"
          ]
        }
      ]
    },
    {
      "cell_type": "code",
      "source": [
        "!wget https://github.com/9r4vEy4r6/taim-host/releases/download/aqi_tag/aqi_data.zip --quiet\n",
        "!wget https://github.com/9r4vEy4r6/host/raw/main/telangana_ac.geojson --quiet\n",
        "!unzip -q aqi_data.zip -d aqi/"
      ],
      "metadata": {
        "id": "U8412LXKYn0k"
      },
      "execution_count": null,
      "outputs": []
    },
    {
      "cell_type": "markdown",
      "source": [
        "# Imports"
      ],
      "metadata": {
        "id": "fgwUAYb7au3T"
      }
    },
    {
      "cell_type": "code",
      "metadata": {
        "id": "5pfHU8UTPMRS"
      },
      "source": [
        "import geopandas as gpd\n",
        "import matplotlib.pyplot as plt\n",
        "from matplotlib.colors import LinearSegmentedColormap\n",
        "from matplotlib.patches import Path, PathPatch\n",
        "import pandas as pd\n",
        "import numpy as np\n",
        "import random\n",
        "from tqdm import tqdm\n",
        "from shapely.geometry import Point\n",
        "import json"
      ],
      "execution_count": null,
      "outputs": []
    },
    {
      "cell_type": "markdown",
      "source": [
        "# Load Data"
      ],
      "metadata": {
        "id": "yYK7xSUtayBy"
      }
    },
    {
      "cell_type": "code",
      "source": [
        "data = gpd.read_file(\"telangana_ac.geojson\")\n",
        "data.to_crs(crs=3857) \n",
        "data.crs"
      ],
      "metadata": {
        "colab": {
          "base_uri": "https://localhost:8080/"
        },
        "id": "p2A5bGxwadDU",
        "outputId": "07ec0c19-e404-4374-e7a3-7f6f76064d5b"
      },
      "execution_count": null,
      "outputs": [
        {
          "output_type": "execute_result",
          "data": {
            "text/plain": [
              "<Geographic 2D CRS: EPSG:4326>\n",
              "Name: WGS 84\n",
              "Axis Info [ellipsoidal]:\n",
              "- Lat[north]: Geodetic latitude (degree)\n",
              "- Lon[east]: Geodetic longitude (degree)\n",
              "Area of Use:\n",
              "- name: World.\n",
              "- bounds: (-180.0, -90.0, 180.0, 90.0)\n",
              "Datum: World Geodetic System 1984 ensemble\n",
              "- Ellipsoid: WGS 84\n",
              "- Prime Meridian: Greenwich"
            ]
          },
          "metadata": {},
          "execution_count": 5
        }
      ]
    },
    {
      "cell_type": "code",
      "source": [
        "aqi = pd.read_csv(\"aqi/merged.csv\")"
      ],
      "metadata": {
        "id": "xX43dX6jahvc"
      },
      "execution_count": null,
      "outputs": []
    },
    {
      "cell_type": "code",
      "source": [
        "dates = aqi.columns[1:-2]\n",
        "dates"
      ],
      "metadata": {
        "colab": {
          "base_uri": "https://localhost:8080/"
        },
        "id": "GJvReHK1hwFv",
        "outputId": "36ba89de-ce36-44de-910b-b0fb531409e8"
      },
      "execution_count": null,
      "outputs": [
        {
          "output_type": "execute_result",
          "data": {
            "text/plain": [
              "Index(['2017-01', '2017-02', '2017-03', '2017-04', '2017-05', '2017-06',\n",
              "       '2017-07', '2017-08', '2017-09', '2017-10', '2017-11', '2017-12',\n",
              "       '2018-01', '2018-02', '2018-03', '2018-04', '2018-05', '2018-06',\n",
              "       '2018-07', '2018-08', '2018-09', '2018-10', '2018-11', '2018-12',\n",
              "       '2019-01', '2019-02', '2019-03', '2019-04', '2019-05', '2019-06',\n",
              "       '2019-07', '2019-08', '2019-09', '2019-10', '2019-11', '2019-12',\n",
              "       '2020-01', '2020-02', '2020-03', '2020-04', '2020-05', '2020-06',\n",
              "       '2020-07', '2020-08', '2020-09', '2020-10', '2020-11', '2020-12',\n",
              "       '2021-01', '2021-02', '2021-03', '2021-04', '2021-05', '2021-06',\n",
              "       '2021-07', '2021-08', '2021-09', '2021-10', '2021-11', '2021-12'],\n",
              "      dtype='object')"
            ]
          },
          "metadata": {},
          "execution_count": 7
        }
      ]
    },
    {
      "cell_type": "code",
      "source": [
        "!mkdir dataset\n",
        "!mkdir dataset/images"
      ],
      "metadata": {
        "id": "tFmbD1Gw9Yxs"
      },
      "execution_count": null,
      "outputs": []
    },
    {
      "cell_type": "code",
      "source": [
        "max = aqi.drop([\"Location\", \"latitude\", \"longitude\"], axis=1).max().max()\n",
        "min = aqi.drop([\"Location\", \"latitude\", \"longitude\"], axis=1).min().min()\n",
        "print(min, max)"
      ],
      "metadata": {
        "colab": {
          "base_uri": "https://localhost:8080/"
        },
        "id": "VN-lKMg1DlKG",
        "outputId": "419e04ed-0436-4593-940b-f99701d70fe3"
      },
      "execution_count": null,
      "outputs": [
        {
          "output_type": "stream",
          "name": "stdout",
          "text": [
            "24.0 153.0\n"
          ]
        }
      ]
    },
    {
      "cell_type": "code",
      "source": [
        "np.random.seed(1234)\n",
        "\n",
        "def func(data_map, row) :\n",
        "  aqis = []\n",
        "  for i in data_map : \n",
        "    if row[\"geometry\"].contains(i) :\n",
        "      aqis.append(data_map[i])\n",
        "  if len(aqis) == 0 : \n",
        "    return float('nan')\n",
        "  else :\n",
        "    return sum(aqis)/len(aqis)\n",
        "\n",
        "for dt in tqdm(dates) : \n",
        "  day_datas = aqi[[dt, \"latitude\", \"longitude\"]]\n",
        "  lats, lons, zs = [], [], []\n",
        "  for day_data in day_datas.to_dict(\"records\") :\n",
        "    if day_data[dt] != day_data[dt] or day_data[\"latitude\"] != day_data[\"latitude\"] or day_data[\"longitude\"] != day_data[\"longitude\"] :\n",
        "      continue\n",
        "    else :\n",
        "      lats.append(day_data[\"latitude\"])\n",
        "      lons.append(day_data[\"longitude\"])\n",
        "      zs.append(day_data[dt])\n",
        "\n",
        "  data_map = {}\n",
        "\n",
        "  for day_data in day_datas.to_dict(\"records\") : \n",
        "    if day_data[dt] != day_data[dt] or day_data[\"latitude\"] != day_data[\"latitude\"] or day_data[\"longitude\"] != day_data[\"longitude\"] :\n",
        "        continue\n",
        "    data_map[Point(day_data[\"longitude\"], day_data[\"latitude\"])] = day_data[dt]\n",
        "\n",
        "  d = data.copy()\n",
        "  fig, ax = plt.subplots(figsize=(10,10))\n",
        "  d.boundary.plot(ax=ax, color='black', alpha = 0.8, linewidth=1, edgecolor='black')\n",
        "  d[\"new_gen\"] = d.apply(lambda x : func(data_map, x), axis=1)\n",
        "  d[d[\"new_gen\"].isna() == False]\n",
        "  plot = d.plot(column=\"new_gen\", vmin=20, vmax=160, ax=ax)\n",
        "  plt.tick_params(left = False, right = False , labelleft = False , labelbottom = False, bottom = False)\n",
        "  plot.figure.savefig(f\"dataset/images/{dt}.png\")\n",
        "  plt.close()"
      ],
      "metadata": {
        "colab": {
          "base_uri": "https://localhost:8080/"
        },
        "id": "E5P-TyB4oVZG",
        "outputId": "bb3b157b-e070-40cf-80f2-dcfa0974279a"
      },
      "execution_count": null,
      "outputs": [
        {
          "output_type": "stream",
          "name": "stderr",
          "text": [
            "100%|██████████| 60/60 [00:42<00:00,  1.40it/s]\n"
          ]
        }
      ]
    },
    {
      "cell_type": "code",
      "source": [
        "with open(\"dataset/scales.json\", \"w\") as f : \n",
        "  json.dump({\"min\" : min, \"max\" : max}, f, indent=4)"
      ],
      "metadata": {
        "id": "APlIZWEP1SRJ"
      },
      "execution_count": null,
      "outputs": []
    },
    {
      "cell_type": "code",
      "source": [
        "!zip -r aqi-images.zip dataset/ --quiet"
      ],
      "metadata": {
        "id": "tG1Mzro8Oioz"
      },
      "execution_count": null,
      "outputs": []
    },
    {
      "cell_type": "code",
      "source": [
        "!cp aqi-images.zip /gdrive/MyDrive/taim_datasets/"
      ],
      "metadata": {
        "id": "a0m80TwGPRNH"
      },
      "execution_count": null,
      "outputs": []
    }
  ]
}